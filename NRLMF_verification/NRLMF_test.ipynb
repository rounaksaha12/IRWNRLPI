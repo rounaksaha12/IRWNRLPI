{
 "cells": [
  {
   "cell_type": "code",
   "execution_count": 100,
   "id": "92e36d22",
   "metadata": {},
   "outputs": [],
   "source": [
    "import numpy as np\n",
    "import pandas as pd\n",
    "import math\n",
    "import matplotlib.pyplot as plt \n",
    "from sklearn.metrics import roc_auc_score, RocCurveDisplay"
   ]
  },
  {
   "cell_type": "code",
   "execution_count": 3,
   "id": "31901ab7",
   "metadata": {},
   "outputs": [],
   "source": [
    "rna_sim=pd.read_csv('rna_similarity.txt',sep='\\t')\n",
    "prot_sim=pd.read_csv('prot_similarity.txt',sep='\\t')\n",
    "inter=pd.read_csv('list_of_interactions.txt',sep='\\t')\n",
    "\n",
    "rna_cnt=inter['RNA_ID'].unique().shape[0] # m\n",
    "prot_cnt=inter['PROT_ID'].unique().shape[0] # n"
   ]
  },
  {
   "cell_type": "code",
   "execution_count": 4,
   "id": "8ee0c6a6",
   "metadata": {},
   "outputs": [],
   "source": [
    "Sl=np.empty((rna_cnt,rna_cnt))\n",
    "Sp=np.empty((prot_cnt,prot_cnt))"
   ]
  },
  {
   "cell_type": "code",
   "execution_count": 5,
   "id": "c7612204",
   "metadata": {},
   "outputs": [
    {
     "name": "stdout",
     "output_type": "stream",
     "text": [
      "[[1. 1. 0. ... 0. 0. 0.]\n",
      " [0. 1. 0. ... 0. 0. 0.]\n",
      " [0. 0. 1. ... 0. 0. 0.]\n",
      " ...\n",
      " [0. 1. 0. ... 0. 0. 0.]\n",
      " [0. 1. 0. ... 0. 0. 0.]\n",
      " [0. 0. 0. ... 0. 0. 0.]]\n"
     ]
    }
   ],
   "source": [
    "Y=np.zeros((rna_cnt,prot_cnt))\n",
    "for i in inter.index:\n",
    "    Y[inter['RNA_ID'][i]][inter['PROT_ID'][i]]=1\n",
    "print(Y)"
   ]
  },
  {
   "cell_type": "code",
   "execution_count": 6,
   "id": "8c4ce19f",
   "metadata": {},
   "outputs": [],
   "source": [
    "for i in rna_sim.index:\n",
    "    Sl[rna_sim['RNA(i)'][i]][rna_sim['RNA(j)'][i]]=rna_sim['Sim(i,j)'][i]\n",
    "\n",
    "for i in prot_sim.index:\n",
    "    Sp[prot_sim['PROT(i)'][i]][prot_sim['PROT(j)'][i]]=prot_sim['Sim(i,j)'][i]\n"
   ]
  },
  {
   "cell_type": "code",
   "execution_count": 7,
   "id": "c82fc2a9",
   "metadata": {},
   "outputs": [
    {
     "name": "stdout",
     "output_type": "stream",
     "text": [
      "[[1.         0.0160874  0.0150442  ... 0.0213873  0.0237827  0.0301653 ]\n",
      " [0.0160874  1.         0.0176763  ... 0.0137041  0.00932855 0.0119166 ]\n",
      " [0.0150442  0.0176763  1.         ... 0.0161504  0.0089185  0.0141593 ]\n",
      " ...\n",
      " [0.0213873  0.0137041  0.0161504  ... 1.         0.00932855 0.016763  ]\n",
      " [0.0237827  0.00932855 0.0089185  ... 0.00932855 1.         0.00768836]\n",
      " [0.0301653  0.0119166  0.0141593  ... 0.016763   0.00768836 1.        ]]\n",
      "(990, 990)\n"
     ]
    }
   ],
   "source": [
    "print(Sl)\n",
    "print(Sl.shape)"
   ]
  },
  {
   "cell_type": "code",
   "execution_count": 8,
   "id": "c8920441",
   "metadata": {},
   "outputs": [
    {
     "name": "stdout",
     "output_type": "stream",
     "text": [
      "[[1.         0.0114943  0.0199646  ... 0.0132024  0.0103043  0.0126176 ]\n",
      " [0.0114943  1.         0.0154265  ... 0.0111918  0.0101835  0.0238959 ]\n",
      " [0.0199646  0.0154265  1.         ... 0.0206388  0.0667203  0.0097399 ]\n",
      " ...\n",
      " [0.0132024  0.0111918  0.0206388  ... 1.         0.0189189  0.0097399 ]\n",
      " [0.0103043  0.0101835  0.0667203  ... 0.0189189  1.         0.00951854]\n",
      " [0.0126176  0.0238959  0.0097399  ... 0.0097399  0.00951854 1.        ]]\n",
      "(64, 64)\n"
     ]
    }
   ],
   "source": [
    "print(Sp)\n",
    "print(Sp.shape)"
   ]
  },
  {
   "cell_type": "code",
   "execution_count": 9,
   "id": "1005fef6",
   "metadata": {},
   "outputs": [],
   "source": [
    "def construct_neighbourhood(S,M,K,cnt):\n",
    "    for i in range(cnt):\n",
    "        ser=pd.Series(S[i])\n",
    "        ser.sort_values(ascending=False, inplace=True)\n",
    "        for iter_cnt, j in enumerate(ser.index):\n",
    "            if iter_cnt>K:\n",
    "                break\n",
    "            if j==i:\n",
    "                continue\n",
    "            M[i][j]=ser[j]\n",
    "\n",
    "K1=5\n",
    "K2=5\n",
    "\n",
    "A=np.zeros((rna_cnt,rna_cnt))\n",
    "B=np.zeros((prot_cnt,prot_cnt))\n",
    "\n",
    "construct_neighbourhood(Sl,A,K1,rna_cnt)\n",
    "construct_neighbourhood(Sp,B,K1,prot_cnt)\n"
   ]
  },
  {
   "cell_type": "code",
   "execution_count": 10,
   "id": "49256544",
   "metadata": {},
   "outputs": [],
   "source": [
    "# construction of Ll\n",
    "Dl=np.zeros((rna_cnt,rna_cnt))\n",
    "Dl_=np.zeros((rna_cnt,rna_cnt))\n",
    "\n",
    "for i in range(rna_cnt):\n",
    "    Dl[i][i]=np.sum(A[i])\n",
    "    Dl_[i][i]=np.sum(A[:,i])\n",
    "\n",
    "Ll=Dl+Dl_-(A+A.transpose())"
   ]
  },
  {
   "cell_type": "code",
   "execution_count": 11,
   "id": "f639accd",
   "metadata": {},
   "outputs": [],
   "source": [
    "# construction of Lp\n",
    "Dp=np.zeros((prot_cnt,prot_cnt))\n",
    "Dp_=np.zeros((prot_cnt,prot_cnt))\n",
    "\n",
    "for i in range(prot_cnt):\n",
    "    Dp[i][i]=np.sum(B[i])\n",
    "    Dp_[i][i]=np.sum(B[:,i])\n",
    "    \n",
    "Lp=Dp+Dp_-(B+B.transpose())"
   ]
  },
  {
   "cell_type": "code",
   "execution_count": 12,
   "id": "f64b840f",
   "metadata": {},
   "outputs": [
    {
     "name": "stdout",
     "output_type": "stream",
     "text": [
      "[[0.6680213 0.        0.        ... 0.        0.        0.       ]\n",
      " [0.        0.1620434 0.        ... 0.        0.        0.       ]\n",
      " [0.        0.        0.2327686 ... 0.        0.        0.       ]\n",
      " ...\n",
      " [0.        0.        0.        ... 0.2216763 0.        0.       ]\n",
      " [0.        0.        0.        ... 0.        0.3944053 0.       ]\n",
      " [0.        0.        0.        ... 0.        0.        0.3830409]]\n"
     ]
    }
   ],
   "source": [
    "print(Ll)"
   ]
  },
  {
   "cell_type": "code",
   "execution_count": 13,
   "id": "0b21cfa7",
   "metadata": {},
   "outputs": [
    {
     "name": "stdout",
     "output_type": "stream",
     "text": [
      "[[ 1.2330499   0.          0.         ...  0.          0.\n",
      "   0.        ]\n",
      " [ 0.          0.37877098  0.         ...  0.          0.\n",
      "  -0.0238959 ]\n",
      " [ 0.          0.          4.8011551  ...  0.         -0.0667203\n",
      "   0.        ]\n",
      " ...\n",
      " [ 0.          0.          0.         ...  1.1811      0.\n",
      "   0.        ]\n",
      " [ 0.          0.         -0.0667203  ...  0.          0.6090052\n",
      "   0.        ]\n",
      " [ 0.         -0.0238959   0.         ...  0.          0.\n",
      "   0.2156013 ]]\n"
     ]
    }
   ],
   "source": [
    "print(Lp)"
   ]
  },
  {
   "cell_type": "code",
   "execution_count": 14,
   "id": "beb8368c",
   "metadata": {},
   "outputs": [],
   "source": [
    "def prob(U,V):\n",
    "    temp=np.exp(np.matmul(U,V.transpose()))\n",
    "    return temp/(1+temp)\n",
    "\n",
    "# P=prob(U,V)\n",
    "# print(P)"
   ]
  },
  {
   "cell_type": "code",
   "execution_count": 15,
   "id": "bc5e7a68",
   "metadata": {},
   "outputs": [],
   "source": [
    "def dL_dU(P,U,V,c,Y,Ll,Lambda_l,alpha,rna_cnt):\n",
    "    return np.matmul(P,V)+np.matmul(np.multiply(Y,P),V)*(c-1)-np.matmul(Y,V)*c+np.matmul((Lambda_l*np.identity(rna_cnt)+alpha*Ll),U)\n",
    "\n",
    "def dL_dV(P,U,V,c,Y,Lp,Lambda_p,beta,prot_cnt):\n",
    "    return np.matmul(P.transpose(),U)+np.matmul(np.multiply(Y.transpose(),P.transpose()),U)*(c-1)-np.matmul(Y.transpose(),U)*c+np.matmul((Lambda_p*np.identity(prot_cnt)+beta*Lp),V)\n"
   ]
  },
  {
   "cell_type": "code",
   "execution_count": 16,
   "id": "e33ece85",
   "metadata": {},
   "outputs": [],
   "source": [
    "def grad_des(U,V,Y,c,Ll,Lp,Lambda_l,Lambda_p,alpha,beta,gamma,rna_cnt,prot_cnt,max_iter):\n",
    "    phi_l=np.zeros((rna_cnt,r))\n",
    "    phi_p=np.zeros((prot_cnt,r))\n",
    "    iter_cnt=1\n",
    "    cont=True\n",
    "    while(cont):\n",
    "        P=prob(U,V)\n",
    "        prev_U=U.copy()\n",
    "        prev_V=V.copy()\n",
    "        \n",
    "        Gl=dL_dU(P,U,V,c,Y,Ll,Lambda_l,alpha,rna_cnt)\n",
    "        phi_l=phi_l+np.multiply(Gl,Gl)\n",
    "        U=U-gamma*(Gl/np.sqrt(phi_l))\n",
    "\n",
    "        Gp=dL_dV(P,U,V,c,Y,Lp,Lambda_p,beta,prot_cnt)\n",
    "        phi_p=phi_p+np.multiply(Gp,Gp)\n",
    "        V=V-gamma*(Gp/np.sqrt(phi_p))\n",
    "        \n",
    "        # print(f'Iteration[{iter_cnt}]: ',end='')\n",
    "        iter_cnt+=1\n",
    "        # print(V[0])\n",
    "        \n",
    "        cont=False\n",
    "        for i in range(rna_cnt):\n",
    "            if(np.linalg.norm(U[i]-prev_U[i], ord=1)>1e-3):\n",
    "                cont=True\n",
    "                break\n",
    "        \n",
    "        for i in range(prot_cnt):\n",
    "            if(np.linalg.norm(V[i]-prev_V[i], ord=1)>1e-3):\n",
    "                cont=True\n",
    "                break\n",
    "    return U,V\n"
   ]
  },
  {
   "cell_type": "code",
   "execution_count": 17,
   "id": "6be54660",
   "metadata": {},
   "outputs": [],
   "source": [
    "def curve_smoothening(vec,sim,neg_set,K2,cnt,r):\n",
    "    for i in range(cnt):\n",
    "        if i in neg_set:\n",
    "            ser=pd.Series(sim[i])\n",
    "            ser.sort_values(ascending=False, inplace=True)\n",
    "            num=np.zeros(r)\n",
    "            den=0\n",
    "            nbr_cnt=0\n",
    "            for j in ser.index:\n",
    "                if j in neg_set:\n",
    "                    continue\n",
    "                num+=sim[i][j]*vec[j]\n",
    "                den+=sim[i][j]\n",
    "                nbr_cnt+=1\n",
    "                if(nbr_cnt>=K2):\n",
    "                    break\n",
    "            num/=den\n",
    "            for k in range(r):\n",
    "                vec[i][k]=num[k]\n",
    "    return vec\n"
   ]
  },
  {
   "cell_type": "code",
   "execution_count": 120,
   "id": "78eb3293",
   "metadata": {},
   "outputs": [],
   "source": [
    "max_iter=1000"
   ]
  },
  {
   "cell_type": "code",
   "execution_count": 121,
   "id": "bbb12f34",
   "metadata": {},
   "outputs": [],
   "source": [
    "r=20\n",
    "phi_l=np.zeros((rna_cnt,r))\n",
    "phi_p=np.zeros((prot_cnt,r))"
   ]
  },
  {
   "cell_type": "code",
   "execution_count": 122,
   "id": "00cf55e0",
   "metadata": {},
   "outputs": [],
   "source": [
    "Lambda_l=2\n",
    "Lambda_p=2\n",
    "\n",
    "sd=1/math.sqrt(r)"
   ]
  },
  {
   "cell_type": "code",
   "execution_count": 123,
   "id": "284ab150",
   "metadata": {},
   "outputs": [],
   "source": [
    "U=np.random.normal(0,sd,(rna_cnt,r))\n",
    "V=np.random.normal(0,sd,(prot_cnt,r))\n",
    "# P=prob(U,V)\n",
    "# print(P)"
   ]
  },
  {
   "cell_type": "code",
   "execution_count": 124,
   "id": "2980c968",
   "metadata": {},
   "outputs": [],
   "source": [
    "c=5\n",
    "alpha=1\n",
    "beta=1\n",
    "gamma=0.01\n",
    "# U,V=grad_des(U,V,Y,c,Ll,Lp,Lambda_l,Lambda_p,alpha,beta,gamma,rna_cnt,prot_cnt,max_iter)"
   ]
  },
  {
   "cell_type": "code",
   "execution_count": 69,
   "id": "c67f6e2a",
   "metadata": {},
   "outputs": [],
   "source": [
    "# test_set=np.random.randint(low=0, high=990, size=5)"
   ]
  },
  {
   "cell_type": "code",
   "execution_count": 70,
   "id": "6bbef1e9",
   "metadata": {},
   "outputs": [
    {
     "name": "stdout",
     "output_type": "stream",
     "text": [
      "737\n",
      "[0. 1. 1. 0. 1. 0. 1. 0. 0. 0. 0. 0. 0. 0. 0. 0. 0. 0. 1. 0. 0. 0. 0. 0.\n",
      " 1. 0. 0. 0. 0. 0. 0. 1. 0. 0. 0. 0. 0. 0. 0. 0. 0. 0. 0. 0. 0. 0. 0. 0.\n",
      " 0. 0. 0. 0. 0. 0. 0. 0. 0. 0. 0. 0. 0. 0. 0. 0.]\n",
      "[1, 2, 4, 6, 18, 24, 31]\n"
     ]
    },
    {
     "data": {
      "image/png": "[encoded data removed]",
      "text/plain": [
       "<Figure size 432x288 with 1 Axes>"
      ]
     },
     "metadata": {
      "needs_background": "light"
     },
     "output_type": "display_data"
    },
    {
     "name": "stdout",
     "output_type": "stream",
     "text": [
      "937\n",
      "[0. 1. 0. 0. 1. 0. 0. 0. 0. 0. 0. 0. 0. 0. 0. 0. 0. 0. 0. 0. 0. 0. 0. 0.\n",
      " 0. 0. 0. 0. 0. 0. 0. 0. 0. 0. 0. 0. 0. 0. 0. 0. 0. 0. 0. 0. 0. 0. 0. 0.\n",
      " 0. 0. 0. 0. 0. 0. 0. 0. 0. 0. 0. 0. 0. 0. 0. 0.]\n",
      "[1, 4]\n"
     ]
    },
    {
     "data": {
      "image/png": "[encoded data removed]",
      "text/plain": [
       "<Figure size 432x288 with 1 Axes>"
      ]
     },
     "metadata": {
      "needs_background": "light"
     },
     "output_type": "display_data"
    },
    {
     "name": "stdout",
     "output_type": "stream",
     "text": [
      "563\n",
      "[0. 1. 0. 0. 1. 0. 0. 1. 0. 0. 0. 0. 0. 0. 0. 0. 0. 0. 1. 0. 0. 0. 0. 0.\n",
      " 0. 0. 0. 0. 0. 0. 0. 0. 0. 0. 0. 0. 0. 0. 0. 0. 0. 0. 0. 0. 0. 0. 0. 0.\n",
      " 0. 0. 0. 0. 0. 0. 0. 0. 0. 0. 0. 0. 0. 0. 0. 0.]\n",
      "[1, 4, 7, 18]\n"
     ]
    },
    {
     "data": {
      "image/png": "[encoded data removed]",
      "text/plain": [
       "<Figure size 432x288 with 1 Axes>"
      ]
     },
     "metadata": {
      "needs_background": "light"
     },
     "output_type": "display_data"
    },
    {
     "name": "stdout",
     "output_type": "stream",
     "text": [
      "347\n",
      "[0. 1. 0. 0. 1. 0. 0. 0. 0. 0. 0. 0. 0. 0. 0. 0. 0. 0. 0. 0. 0. 0. 0. 0.\n",
      " 0. 0. 0. 0. 0. 0. 0. 0. 0. 0. 0. 0. 0. 0. 0. 0. 0. 0. 0. 0. 0. 0. 0. 0.\n",
      " 0. 0. 0. 0. 0. 0. 0. 0. 0. 0. 0. 0. 0. 0. 0. 0.]\n",
      "[1, 4]\n"
     ]
    },
    {
     "data": {
      "image/png": "[encoded data removed]",
      "text/plain": [
       "<Figure size 432x288 with 1 Axes>"
      ]
     },
     "metadata": {
      "needs_background": "light"
     },
     "output_type": "display_data"
    },
    {
     "name": "stdout",
     "output_type": "stream",
     "text": [
      "515\n",
      "[1. 1. 0. 0. 1. 0. 0. 0. 0. 0. 0. 0. 0. 0. 0. 0. 0. 0. 0. 0. 0. 0. 0. 0.\n",
      " 0. 0. 0. 0. 0. 0. 0. 0. 0. 0. 0. 0. 0. 0. 0. 0. 0. 0. 0. 0. 0. 0. 0. 0.\n",
      " 0. 0. 0. 0. 0. 0. 0. 0. 0. 0. 0. 0. 0. 0. 0. 0.]\n",
      "[0, 1, 4]\n"
     ]
    },
    {
     "data": {
      "image/png": "[encoded data removed]",
      "text/plain": [
       "<Figure size 432x288 with 1 Axes>"
      ]
     },
     "metadata": {
      "needs_background": "light"
     },
     "output_type": "display_data"
    }
   ],
   "source": [
    "# for n in test_set:\n",
    "#     neg_rna_set=[]\n",
    "#     neg_prot_set=[]\n",
    "#     #n=np.random.randint(0,989)\n",
    "#     #n=704\n",
    "#     print(n)\n",
    "#     print(Y[n])\n",
    "#     true_positives=[i for i in range(prot_cnt) if Y[n][i]==1]\n",
    "#     true_negatives=[i for i in range(prot_cnt) if Y[n][i]==0]\n",
    "#     print(true_positives)\n",
    "#     neg_rna_set.append(n)\n",
    "#     modified_Y=Y.copy()\n",
    "#     for i in range(prot_cnt):\n",
    "#         modified_Y[n][i]=0\n",
    "#     U=np.random.normal(0,sd,(rna_cnt,r))\n",
    "#     V=np.random.normal(0,sd,(prot_cnt,r))\n",
    "#     U,V=grad_des(U,V,modified_Y,c,Ll,Lp,Lambda_l,Lambda_p,alpha,beta,gamma,rna_cnt,prot_cnt,max_iter)\n",
    "#     U=curve_smoothening(U,Sl,neg_rna_set,K2,rna_cnt,r)\n",
    "#     V=curve_smoothening(V,Sp,neg_prot_set,K2,prot_cnt,r)\n",
    "#     thresholds = np.linspace(0,1,100)\n",
    "#     tpr=[]\n",
    "#     fpr=[]\n",
    "#     pos=len(true_positives)\n",
    "#     fal=len(true_negatives)\n",
    "#     for th in thresholds:\n",
    "#         tp=0\n",
    "#         fp=0\n",
    "#         for i in range(64):\n",
    "#             if pred[i]<th:\n",
    "#                 break\n",
    "#             if i in true_positives:\n",
    "#                 tp+=1\n",
    "#             else:\n",
    "#                 fp+=1\n",
    "#         tpr.append(tp/pos)\n",
    "#         fpr.append(fp/fal)\n",
    "#     plt.plot([0, 1], [0, 1], linestyle='--', lw=2, color='r',label='Random', alpha=.8)\n",
    "#     plt.plot(fpr,tpr, label=\"ROC Curve\",color=\"blue\")\n",
    "#     plt.text(0.5, 0.5, \"varying threshold scores (0-1)\", rotation=0, size=12,ha=\"center\", va=\"center\",bbox=dict(boxstyle=\"rarrow\"))\n",
    "#     plt.xlabel(\"False Positve Rate\")\n",
    "#     plt.ylabel(\"True Positive Rate\")\n",
    "#     plt.legend()\n",
    "#     plt.show()"
   ]
  },
  {
   "cell_type": "code",
   "execution_count": 131,
   "id": "e5995553",
   "metadata": {},
   "outputs": [
    {
     "name": "stdout",
     "output_type": "stream",
     "text": [
      "404\n",
      "[0. 1. 0. 0. 1. 0. 0. 0. 0. 0. 0. 0. 0. 0. 1. 0. 0. 0. 0. 0. 0. 0. 0. 0.\n",
      " 0. 0. 0. 0. 0. 0. 1. 0. 0. 0. 0. 0. 1. 0. 0. 1. 0. 0. 0. 1. 0. 0. 0. 0.\n",
      " 0. 0. 0. 0. 0. 0. 0. 0. 0. 0. 0. 0. 0. 0. 0. 0.]\n",
      "[1, 4, 14, 30, 36, 39, 43]\n"
     ]
    }
   ],
   "source": [
    "neg_rna_set=[]\n",
    "neg_prot_set=[]\n",
    "n=np.random.randint(0,rna_cnt-1)\n",
    "# n=704\n",
    "print(n)\n",
    "print(Y[n])\n",
    "true_positives=[i for i in range(prot_cnt) if Y[n][i]==1]\n",
    "true_negatives=[i for i in range(prot_cnt) if Y[n][i]==0]\n",
    "print(true_positives)\n",
    "neg_rna_set.append(n)\n",
    "modified_Y=Y.copy()\n",
    "for i in range(prot_cnt):\n",
    "    modified_Y[n][i]=0"
   ]
  },
  {
   "cell_type": "code",
   "execution_count": 132,
   "id": "0a83f530",
   "metadata": {},
   "outputs": [],
   "source": [
    "U,V=grad_des(U,V,modified_Y,c,Ll,Lp,Lambda_l,Lambda_p,alpha,beta,gamma,rna_cnt,prot_cnt,max_iter)"
   ]
  },
  {
   "cell_type": "code",
   "execution_count": 133,
   "id": "5f8ee2f2",
   "metadata": {},
   "outputs": [],
   "source": [
    "U=curve_smoothening(U,Sl,neg_rna_set,K2,rna_cnt,r)\n",
    "V=curve_smoothening(V,Sp,neg_prot_set,K2,prot_cnt,r)"
   ]
  },
  {
   "cell_type": "code",
   "execution_count": 134,
   "id": "5d75f29f",
   "metadata": {},
   "outputs": [
    {
     "name": "stdout",
     "output_type": "stream",
     "text": [
      "4   0.9807861361899436\n",
      "1   0.9793292823900225\n",
      "6   0.7114463477144336\n",
      "0   0.30957192395164324\n",
      "15   0.14603797677432848\n",
      "7   0.14146692548058298\n",
      "18   0.09807927841645621\n",
      "13   0.08401039067230574\n",
      "14   0.057579891959906995\n",
      "2   0.056598919306232766\n",
      "34   0.05314117551792966\n",
      "10   0.05150229856394644\n",
      "24   0.05051054649675378\n",
      "35   0.04103908555024362\n",
      "22   0.03803750790891936\n",
      "28   0.03717346454003827\n",
      "51   0.035645140317340146\n",
      "11   0.03429635862094236\n",
      "16   0.03321182574870149\n",
      "30   0.02984644930731762\n",
      "46   0.029289663430476662\n",
      "12   0.026508339009672414\n",
      "36   0.0245313410062255\n",
      "26   0.02282244978179497\n",
      "37   0.022555883475210294\n",
      "39   0.02124889588430508\n",
      "40   0.01958318620438594\n",
      "3   0.019155093170609393\n",
      "27   0.019082053684738687\n",
      "45   0.016504542075503257\n",
      "20   0.01616353934391833\n",
      "17   0.01588090735518345\n",
      "29   0.015705845354897274\n",
      "31   0.013947660146449865\n",
      "53   0.013732377116008615\n",
      "25   0.013482781415894816\n",
      "61   0.013170183828743087\n",
      "33   0.013022629374106589\n",
      "23   0.012978881261463762\n",
      "56   0.012922724119614456\n",
      "63   0.012540731432169296\n",
      "48   0.01239737710237136\n",
      "43   0.012130266149908692\n",
      "44   0.012128519670307288\n",
      "41   0.01142865405185785\n",
      "58   0.010934577785000113\n",
      "57   0.010806583950601295\n",
      "9   0.01068755340160215\n",
      "19   0.010501351909210982\n",
      "49   0.010214910627061962\n",
      "62   0.010125775574818214\n",
      "55   0.00970912876174218\n",
      "32   0.00938373849937907\n",
      "54   0.009216186532738023\n",
      "42   0.008961175417247544\n",
      "52   0.008798855453178716\n",
      "5   0.00840294453361281\n",
      "50   0.008398781056100242\n",
      "47   0.008381294602188501\n",
      "8   0.008176910870673924\n",
      "38   0.008103832623537647\n",
      "21   0.007743921738353825\n",
      "59   0.007471769650737752\n",
      "60   0.007113051191766236\n",
      "[(4, 0.9807861361899436), (1, 0.9793292823900225), (6, 0.7114463477144336), (0, 0.30957192395164324), (15, 0.14603797677432848), (7, 0.14146692548058298), (18, 0.09807927841645621), (13, 0.08401039067230574), (14, 0.057579891959906995), (2, 0.056598919306232766), (34, 0.05314117551792966), (10, 0.05150229856394644), (24, 0.05051054649675378), (35, 0.04103908555024362), (22, 0.03803750790891936), (28, 0.03717346454003827), (51, 0.035645140317340146), (11, 0.03429635862094236), (16, 0.03321182574870149), (30, 0.02984644930731762), (46, 0.029289663430476662), (12, 0.026508339009672414), (36, 0.0245313410062255), (26, 0.02282244978179497), (37, 0.022555883475210294), (39, 0.02124889588430508), (40, 0.01958318620438594), (3, 0.019155093170609393), (27, 0.019082053684738687), (45, 0.016504542075503257), (20, 0.01616353934391833), (17, 0.01588090735518345), (29, 0.015705845354897274), (31, 0.013947660146449865), (53, 0.013732377116008615), (25, 0.013482781415894816), (61, 0.013170183828743087), (33, 0.013022629374106589), (23, 0.012978881261463762), (56, 0.012922724119614456), (63, 0.012540731432169296), (48, 0.01239737710237136), (43, 0.012130266149908692), (44, 0.012128519670307288), (41, 0.01142865405185785), (58, 0.010934577785000113), (57, 0.010806583950601295), (9, 0.01068755340160215), (19, 0.010501351909210982), (49, 0.010214910627061962), (62, 0.010125775574818214), (55, 0.00970912876174218), (32, 0.00938373849937907), (54, 0.009216186532738023), (42, 0.008961175417247544), (52, 0.008798855453178716), (5, 0.00840294453361281), (50, 0.008398781056100242), (47, 0.008381294602188501), (8, 0.008176910870673924), (38, 0.008103832623537647), (21, 0.007743921738353825), (59, 0.007471769650737752), (60, 0.007113051191766236)]\n"
     ]
    }
   ],
   "source": [
    "P=prob(U,V)\n",
    "ser=pd.Series(P[n])\n",
    "ser.sort_values(ascending=False, inplace=True)\n",
    "for i in ser.index:\n",
    "    print(i,\" \",ser[i])\n",
    "pred=[]\n",
    "for i in ser.index:\n",
    "    pred.append((i,ser[i]))\n",
    "print(pred)"
   ]
  },
  {
   "cell_type": "code",
   "execution_count": 138,
   "id": "cdc2e8c0",
   "metadata": {},
   "outputs": [
    {
     "data": {
      "image/png": "[encoded data removed]",
      "text/plain": [
       "<Figure size 432x288 with 1 Axes>"
      ]
     },
     "metadata": {
      "needs_background": "light"
     },
     "output_type": "display_data"
    },
    {
     "name": "stdout",
     "output_type": "stream",
     "text": [
      "0.7593984962406015\n"
     ]
    },
    {
     "data": {
      "image/png": "[encoded data removed]",
      "text/plain": [
       "<Figure size 432x288 with 1 Axes>"
      ]
     },
     "metadata": {
      "needs_background": "light"
     },
     "output_type": "display_data"
    }
   ],
   "source": [
    "thresholds = np.linspace(0,1,500)\n",
    "tpr=[]\n",
    "fpr=[]\n",
    "pos=len(true_positives)\n",
    "fal=len(true_negatives)\n",
    "for th in thresholds:\n",
    "    tp=0\n",
    "    fp=0\n",
    "    for i in range(prot_cnt):\n",
    "        if pred[i][1]<th:\n",
    "            break\n",
    "        if pred[i][0] in true_positives:\n",
    "            tp+=1\n",
    "        else:\n",
    "            fp+=1\n",
    "    tpr.append(tp/pos)\n",
    "    fpr.append(fp/fal)\n",
    "plt.plot([0, 1], [0, 1], linestyle='--', lw=2, color='r',label='Random', alpha=.8)\n",
    "plt.plot(fpr,tpr, label=\"ROC Curve\",color=\"blue\")\n",
    "# plt.text(0.5, 0.5, \"varying threshold scores (0-1)\", rotation=0, size=12,ha=\"center\", va=\"center\",bbox=dict(boxstyle=\"rarrow\"))\n",
    "plt.xlabel(\"False Positve Rate\")\n",
    "plt.ylabel(\"True Positive Rate\")\n",
    "plt.legend()\n",
    "plt.show()\n",
    "\n",
    "\n",
    "\n",
    "y_pred=P[n]\n",
    "y_true=np.zeros(prot_cnt)\n",
    "for yes in true_positives:\n",
    "    y_true[yes]=1\n",
    "\n",
    "auc=roc_auc_score(y_true, y_pred)\n",
    "RocCurveDisplay.from_predictions(y_true,y_pred)\n",
    "\n",
    "print(auc)"
   ]
  },
  {
   "cell_type": "code",
   "execution_count": 136,
   "id": "2e5e749c",
   "metadata": {},
   "outputs": [],
   "source": [
    "f=open('NRLMF_results.csv','a')\n",
    "f.write('\"'+str(neg_rna_set)+'\",\"'+str(true_positives)+'\",'+str(c)+','+str(K1)+','+str(K2)+','+str(Lambda_l)+','+str(Lambda_p)+','+str(alpha)+','+str(beta)+','+str(gamma)+','+str(auc)+'\\n')\n",
    "f.close()"
   ]
  },
  {
   "cell_type": "code",
   "execution_count": null,
   "id": "20ea322b",
   "metadata": {},
   "outputs": [],
   "source": []
  }
 ],
 "metadata": {
  "kernelspec": {
   "display_name": "Python 3 (ipykernel)",
   "language": "python",
   "name": "python3"
  },
  "language_info": {
   "codemirror_mode": {
    "name": "ipython",
    "version": 3
   },
   "file_extension": ".py",
   "mimetype": "text/x-python",
   "name": "python",
   "nbconvert_exporter": "python",
   "pygments_lexer": "ipython3",
   "version": "3.8.10"
  }
 },
 "nbformat": 4,
 "nbformat_minor": 5
}
