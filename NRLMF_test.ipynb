{
 "cells": [
  {
   "cell_type": "code",
   "execution_count": 1,
   "id": "92e36d22",
   "metadata": {},
   "outputs": [],
   "source": [
    "import numpy as np\n",
    "import pandas as pd\n",
    "import math\n",
    "import matplotlib.pyplot as plt "
   ]
  },
  {
   "cell_type": "code",
   "execution_count": 2,
   "id": "31901ab7",
   "metadata": {},
   "outputs": [],
   "source": [
    "rna_sim=pd.read_csv('rna_similarity.txt',sep='\\t')\n",
    "prot_sim=pd.read_csv('prot_similarity.txt',sep='\\t')\n",
    "inter=pd.read_csv('list_of_interactions.txt',sep='\\t')\n",
    "\n",
    "rna_cnt=inter['RNA_ID'].unique().shape[0] # m\n",
    "prot_cnt=inter['PROT_ID'].unique().shape[0] # n"
   ]
  },
  {
   "cell_type": "code",
   "execution_count": 3,
   "id": "8ee0c6a6",
   "metadata": {},
   "outputs": [],
   "source": [
    "Sl=np.empty((rna_cnt,rna_cnt))\n",
    "Sp=np.empty((prot_cnt,prot_cnt))"
   ]
  },
  {
   "cell_type": "code",
   "execution_count": 4,
   "id": "c7612204",
   "metadata": {},
   "outputs": [
    {
     "name": "stdout",
     "output_type": "stream",
     "text": [
      "[[1. 1. 0. ... 0. 0. 0.]\n",
      " [0. 1. 0. ... 0. 0. 0.]\n",
      " [0. 0. 1. ... 0. 0. 0.]\n",
      " ...\n",
      " [0. 1. 0. ... 0. 0. 0.]\n",
      " [0. 1. 0. ... 0. 0. 0.]\n",
      " [0. 0. 0. ... 0. 0. 0.]]\n"
     ]
    }
   ],
   "source": [
    "Y=np.zeros((rna_cnt,prot_cnt))\n",
    "for i in inter.index:\n",
    "    Y[inter['RNA_ID'][i]][inter['PROT_ID'][i]]=1\n",
    "print(Y)"
   ]
  },
  {
   "cell_type": "code",
   "execution_count": 5,
   "id": "8c4ce19f",
   "metadata": {},
   "outputs": [],
   "source": [
    "for i in rna_sim.index:\n",
    "    Sl[rna_sim['RNA(i)'][i]][rna_sim['RNA(j)'][i]]=rna_sim['Sim(i,j)'][i]\n",
    "\n",
    "for i in prot_sim.index:\n",
    "    Sp[prot_sim['PROT(i)'][i]][prot_sim['PROT(j)'][i]]=prot_sim['Sim(i,j)'][i]\n"
   ]
  },
  {
   "cell_type": "code",
   "execution_count": 6,
   "id": "c82fc2a9",
   "metadata": {},
   "outputs": [
    {
     "name": "stdout",
     "output_type": "stream",
     "text": [
      "[[1.         0.0160874  0.0150442  ... 0.0213873  0.0237827  0.0301653 ]\n",
      " [0.0160874  1.         0.0176763  ... 0.0137041  0.00932855 0.0119166 ]\n",
      " [0.0150442  0.0176763  1.         ... 0.0161504  0.0089185  0.0141593 ]\n",
      " ...\n",
      " [0.0213873  0.0137041  0.0161504  ... 1.         0.00932855 0.016763  ]\n",
      " [0.0237827  0.00932855 0.0089185  ... 0.00932855 1.         0.00768836]\n",
      " [0.0301653  0.0119166  0.0141593  ... 0.016763   0.00768836 1.        ]]\n",
      "(990, 990)\n"
     ]
    }
   ],
   "source": [
    "print(Sl)\n",
    "print(Sl.shape)"
   ]
  },
  {
   "cell_type": "code",
   "execution_count": 7,
   "id": "c8920441",
   "metadata": {},
   "outputs": [
    {
     "name": "stdout",
     "output_type": "stream",
     "text": [
      "[[1.         0.0114943  0.0199646  ... 0.0132024  0.0103043  0.0126176 ]\n",
      " [0.0114943  1.         0.0154265  ... 0.0111918  0.0101835  0.0238959 ]\n",
      " [0.0199646  0.0154265  1.         ... 0.0206388  0.0667203  0.0097399 ]\n",
      " ...\n",
      " [0.0132024  0.0111918  0.0206388  ... 1.         0.0189189  0.0097399 ]\n",
      " [0.0103043  0.0101835  0.0667203  ... 0.0189189  1.         0.00951854]\n",
      " [0.0126176  0.0238959  0.0097399  ... 0.0097399  0.00951854 1.        ]]\n",
      "(64, 64)\n"
     ]
    }
   ],
   "source": [
    "print(Sp)\n",
    "print(Sp.shape)"
   ]
  },
  {
   "cell_type": "code",
   "execution_count": 8,
   "id": "1005fef6",
   "metadata": {},
   "outputs": [],
   "source": [
    "def construct_neighbourhood(S,M,K,cnt):\n",
    "    for i in range(cnt):\n",
    "        ser=pd.Series(S[i])\n",
    "        ser.sort_values(ascending=False, inplace=True)\n",
    "        for iter_cnt, j in enumerate(ser.index):\n",
    "            if iter_cnt>K:\n",
    "                break\n",
    "            if j==i:\n",
    "                continue\n",
    "            M[i][j]=ser[j]\n",
    "\n",
    "K1=5\n",
    "K2=5\n",
    "\n",
    "A=np.zeros((rna_cnt,rna_cnt))\n",
    "B=np.zeros((prot_cnt,prot_cnt))\n",
    "\n",
    "construct_neighbourhood(Sl,A,K1,rna_cnt)\n",
    "construct_neighbourhood(Sp,B,K1,prot_cnt)\n"
   ]
  },
  {
   "cell_type": "code",
   "execution_count": 9,
   "id": "49256544",
   "metadata": {},
   "outputs": [],
   "source": [
    "# construction of Ll\n",
    "Dl=np.zeros((rna_cnt,rna_cnt))\n",
    "Dl_=np.zeros((rna_cnt,rna_cnt))\n",
    "\n",
    "for i in range(rna_cnt):\n",
    "    Dl[i][i]=np.sum(A[i])\n",
    "    Dl_[i][i]=np.sum(A[:,i])\n",
    "\n",
    "Ll=Dl+Dl_-(A+A.transpose())"
   ]
  },
  {
   "cell_type": "code",
   "execution_count": 10,
   "id": "f639accd",
   "metadata": {},
   "outputs": [],
   "source": [
    "# construction of Lp\n",
    "Dp=np.zeros((prot_cnt,prot_cnt))\n",
    "Dp_=np.zeros((prot_cnt,prot_cnt))\n",
    "\n",
    "for i in range(prot_cnt):\n",
    "    Dp[i][i]=np.sum(B[i])\n",
    "    Dp_[i][i]=np.sum(B[:,i])\n",
    "    \n",
    "Lp=Dp+Dp_-(B+B.transpose())"
   ]
  },
  {
   "cell_type": "code",
   "execution_count": 11,
   "id": "f64b840f",
   "metadata": {},
   "outputs": [
    {
     "name": "stdout",
     "output_type": "stream",
     "text": [
      "[[0.6680213 0.        0.        ... 0.        0.        0.       ]\n",
      " [0.        0.1620434 0.        ... 0.        0.        0.       ]\n",
      " [0.        0.        0.2327686 ... 0.        0.        0.       ]\n",
      " ...\n",
      " [0.        0.        0.        ... 0.2216763 0.        0.       ]\n",
      " [0.        0.        0.        ... 0.        0.3944053 0.       ]\n",
      " [0.        0.        0.        ... 0.        0.        0.3830409]]\n"
     ]
    }
   ],
   "source": [
    "print(Ll)"
   ]
  },
  {
   "cell_type": "code",
   "execution_count": 12,
   "id": "0b21cfa7",
   "metadata": {},
   "outputs": [
    {
     "name": "stdout",
     "output_type": "stream",
     "text": [
      "[[ 1.2330499   0.          0.         ...  0.          0.\n",
      "   0.        ]\n",
      " [ 0.          0.37877098  0.         ...  0.          0.\n",
      "  -0.0238959 ]\n",
      " [ 0.          0.          4.8011551  ...  0.         -0.0667203\n",
      "   0.        ]\n",
      " ...\n",
      " [ 0.          0.          0.         ...  1.1811      0.\n",
      "   0.        ]\n",
      " [ 0.          0.         -0.0667203  ...  0.          0.6090052\n",
      "   0.        ]\n",
      " [ 0.         -0.0238959   0.         ...  0.          0.\n",
      "   0.2156013 ]]\n"
     ]
    }
   ],
   "source": [
    "print(Lp)"
   ]
  },
  {
   "cell_type": "code",
   "execution_count": 13,
   "id": "beb8368c",
   "metadata": {},
   "outputs": [],
   "source": [
    "def prob(U,V):\n",
    "    temp=np.exp(np.matmul(U,V.transpose()))\n",
    "    return temp/(1+temp)\n",
    "\n",
    "# P=prob(U,V)\n",
    "# print(P)"
   ]
  },
  {
   "cell_type": "code",
   "execution_count": 14,
   "id": "bc5e7a68",
   "metadata": {},
   "outputs": [],
   "source": [
    "def dL_dU(P,U,V,c,Y,Ll,Lambda_l,alpha,rna_cnt):\n",
    "    return np.matmul(P,V)+np.matmul(np.multiply(Y,P),V)*(c-1)-np.matmul(Y,V)*c+np.matmul((Lambda_l*np.identity(rna_cnt)+alpha*Ll),U)\n",
    "\n",
    "def dL_dV(P,U,V,c,Y,Lp,Lambda_p,beta,prot_cnt):\n",
    "    return np.matmul(P.transpose(),U)+np.matmul(np.multiply(Y.transpose(),P.transpose()),U)*(c-1)-np.matmul(Y.transpose(),U)*c+np.matmul((Lambda_p*np.identity(prot_cnt)+beta*Lp),V)\n"
   ]
  },
  {
   "cell_type": "code",
   "execution_count": 15,
   "id": "e33ece85",
   "metadata": {},
   "outputs": [],
   "source": [
    "def grad_des(U,V,Y,c,Ll,Lp,Lambda_l,Lambda_p,alpha,beta,gamma,rna_cnt,prot_cnt,max_iter):\n",
    "    phi_l=np.zeros((rna_cnt,r))\n",
    "    phi_p=np.zeros((prot_cnt,r))\n",
    "    iter_cnt=1\n",
    "    cont=True\n",
    "    while(cont):\n",
    "        P=prob(U,V)\n",
    "        prev_U=U.copy()\n",
    "        prev_V=V.copy()\n",
    "        \n",
    "        Gl=dL_dU(P,U,V,c,Y,Ll,Lambda_l,alpha,rna_cnt)\n",
    "        phi_l=phi_l+np.multiply(Gl,Gl)\n",
    "        U=U-gamma*(Gl/np.sqrt(phi_l))\n",
    "\n",
    "        Gp=dL_dV(P,U,V,c,Y,Lp,Lambda_p,beta,prot_cnt)\n",
    "        phi_p=phi_p+np.multiply(Gp,Gp)\n",
    "        V=V-gamma*(Gp/np.sqrt(phi_p))\n",
    "        \n",
    "        # print(f'Iteration[{iter_cnt}]: ',end='')\n",
    "        iter_cnt+=1\n",
    "        # print(V[0])\n",
    "        \n",
    "        cont=False\n",
    "        for i in range(rna_cnt):\n",
    "            if(np.linalg.norm(U[i]-prev_U[i], ord=1)>1e-3):\n",
    "                cont=True\n",
    "                break\n",
    "        \n",
    "        for i in range(prot_cnt):\n",
    "            if(np.linalg.norm(V[i]-prev_V[i], ord=1)>1e-3):\n",
    "                cont=True\n",
    "                break\n",
    "    return U,V\n"
   ]
  },
  {
   "cell_type": "code",
   "execution_count": 16,
   "id": "6be54660",
   "metadata": {},
   "outputs": [],
   "source": [
    "def curve_smoothening(vec,sim,neg_set,K2,cnt,r):\n",
    "    for i in range(cnt):\n",
    "        if i in neg_set:\n",
    "            ser=pd.Series(sim[i])\n",
    "            ser.sort_values(ascending=False, inplace=True)\n",
    "            num=np.zeros(r)\n",
    "            den=0\n",
    "            nbr_cnt=0\n",
    "            for j in ser.index:\n",
    "                if j in neg_set:\n",
    "                    continue\n",
    "                num+=sim[i][j]*vec[j]\n",
    "                den+=sim[i][j]\n",
    "                nbr_cnt+=1\n",
    "                if(nbr_cnt>=K2):\n",
    "                    break\n",
    "            num/=den\n",
    "            for k in range(r):\n",
    "                vec[i][k]=num[k]\n",
    "    return vec\n"
   ]
  },
  {
   "cell_type": "code",
   "execution_count": 17,
   "id": "78eb3293",
   "metadata": {},
   "outputs": [],
   "source": [
    "max_iter=1000"
   ]
  },
  {
   "cell_type": "code",
   "execution_count": 18,
   "id": "bbb12f34",
   "metadata": {},
   "outputs": [],
   "source": [
    "r=20\n",
    "phi_l=np.zeros((rna_cnt,r))\n",
    "phi_p=np.zeros((prot_cnt,r))"
   ]
  },
  {
   "cell_type": "code",
   "execution_count": 19,
   "id": "00cf55e0",
   "metadata": {},
   "outputs": [],
   "source": [
    "Lambda_l=0.5\n",
    "Lambda_p=0.5\n",
    "\n",
    "sd=1/math.sqrt(r)"
   ]
  },
  {
   "cell_type": "code",
   "execution_count": 20,
   "id": "284ab150",
   "metadata": {},
   "outputs": [],
   "source": [
    "U=np.random.normal(0,sd,(rna_cnt,r))\n",
    "V=np.random.normal(0,sd,(prot_cnt,r))\n",
    "# P=prob(U,V)\n",
    "# print(P)"
   ]
  },
  {
   "cell_type": "code",
   "execution_count": 21,
   "id": "2980c968",
   "metadata": {},
   "outputs": [],
   "source": [
    "c=5\n",
    "alpha=1\n",
    "beta=1\n",
    "gamma=0.01\n",
    "# U,V=grad_des(U,V,Y,c,Ll,Lp,Lambda_l,Lambda_p,alpha,beta,gamma,rna_cnt,prot_cnt,max_iter)"
   ]
  },
  {
   "cell_type": "code",
   "execution_count": 22,
   "id": "6bbef1e9",
   "metadata": {},
   "outputs": [
    {
     "name": "stdout",
     "output_type": "stream",
     "text": [
      "704\n",
      "[0. 1. 1. 0. 1. 0. 0. 0. 0. 0. 1. 0. 0. 0. 0. 0. 0. 0. 0. 0. 0. 0. 0. 0.\n",
      " 1. 0. 0. 0. 0. 0. 0. 0. 0. 0. 0. 0. 0. 0. 0. 1. 0. 0. 0. 0. 0. 0. 0. 0.\n",
      " 0. 0. 0. 0. 0. 0. 0. 0. 0. 0. 0. 0. 0. 0. 0. 0.]\n",
      "[1, 2, 4, 10, 24, 39]\n"
     ]
    }
   ],
   "source": [
    "neg_rna_set=[]\n",
    "neg_prot_set=[]\n",
    "n=np.random.randint(0,989)\n",
    "print(n)\n",
    "print(Y[n])\n",
    "true_positives=[i for i in range(prot_cnt) if Y[n][i]==1]\n",
    "true_negatives=[i for i in range(prot_cnt) if Y[n][i]==0]\n",
    "print(true_positives)\n",
    "neg_rna_set.append(n)\n",
    "modified_Y=Y.copy()\n",
    "for i in range(prot_cnt):\n",
    "    modified_Y[n][i]=0"
   ]
  },
  {
   "cell_type": "code",
   "execution_count": 23,
   "id": "afa2cbc8",
   "metadata": {},
   "outputs": [],
   "source": [
    "U,V=grad_des(U,V,modified_Y,c,Ll,Lp,Lambda_l,Lambda_p,alpha,beta,gamma,rna_cnt,prot_cnt,max_iter)"
   ]
  },
  {
   "cell_type": "code",
   "execution_count": 24,
   "id": "3b180894",
   "metadata": {},
   "outputs": [],
   "source": [
    "U=curve_smoothening(U,Sl,neg_rna_set,K2,rna_cnt,r)\n",
    "V=curve_smoothening(V,Sp,neg_prot_set,K2,prot_cnt,r)"
   ]
  },
  {
   "cell_type": "code",
   "execution_count": 25,
   "id": "55942936",
   "metadata": {},
   "outputs": [
    {
     "name": "stdout",
     "output_type": "stream",
     "text": [
      "4   0.9650501003455667\n",
      "1   0.9507978073407548\n",
      "6   0.5088011927934774\n",
      "0   0.07337313173122813\n",
      "24   0.060061285615454665\n",
      "2   0.04955070273509108\n",
      "13   0.048689852023077476\n",
      "12   0.03791237418162468\n",
      "18   0.033460444649744236\n",
      "10   0.03003514711648726\n",
      "3   0.01573304645312535\n",
      "34   0.015379470991131598\n",
      "11   0.01381753896178119\n",
      "22   0.012912386980120361\n",
      "40   0.012369245772235936\n",
      "16   0.012320643428856276\n",
      "43   0.011610195211490013\n",
      "9   0.011435531976532938\n",
      "14   0.011237719049362683\n",
      "8   0.011108580020944493\n",
      "5   0.010937030526946634\n",
      "29   0.010316920266279334\n",
      "21   0.010154040848788006\n",
      "28   0.009954476424403325\n",
      "15   0.009186596334757647\n",
      "25   0.009035295229629415\n",
      "30   0.008981568293784612\n",
      "7   0.007799578790936813\n",
      "27   0.0077003514737671586\n",
      "54   0.007613640018922033\n",
      "39   0.007516313191981701\n",
      "44   0.007139785452378383\n",
      "35   0.0067326513071138926\n",
      "26   0.006594924379019107\n",
      "31   0.006389206941895918\n",
      "33   0.006151241385552646\n",
      "32   0.006095655294407571\n",
      "49   0.005957061366554381\n",
      "42   0.005907784473161377\n",
      "51   0.005685830221999039\n",
      "46   0.0056749526401185515\n",
      "53   0.005665577224618845\n",
      "59   0.005456537329227262\n",
      "50   0.0050716537868451895\n",
      "23   0.0048369049728755635\n",
      "58   0.004713621853761933\n",
      "55   0.004698772306172193\n",
      "62   0.004678624639320539\n",
      "17   0.004471725139156871\n",
      "41   0.004419906151301978\n",
      "45   0.0043204995879487845\n",
      "61   0.004165394121592608\n",
      "36   0.004146963372523911\n",
      "19   0.004038793891283441\n",
      "48   0.004014730492109606\n",
      "52   0.003944782846438697\n",
      "63   0.003607891424049115\n",
      "56   0.0034263051923939117\n",
      "57   0.003423117618779095\n",
      "20   0.0033867497272394866\n",
      "38   0.0031874696075646484\n",
      "47   0.0029244995334335028\n",
      "37   0.002836559715035954\n",
      "60   0.0026130852851359945\n",
      "[0.9650501  0.95079781 0.50880119 0.07337313 0.06006129 0.0495507\n",
      " 0.04868985 0.03791237 0.03346044 0.03003515 0.01573305 0.01537947\n",
      " 0.01381754 0.01291239 0.01236925 0.01232064 0.0116102  0.01143553\n",
      " 0.01123772 0.01110858 0.01093703 0.01031692 0.01015404 0.00995448\n",
      " 0.0091866  0.0090353  0.00898157 0.00779958 0.00770035 0.00761364\n",
      " 0.00751631 0.00713979 0.00673265 0.00659492 0.00638921 0.00615124\n",
      " 0.00609566 0.00595706 0.00590778 0.00568583 0.00567495 0.00566558\n",
      " 0.00545654 0.00507165 0.0048369  0.00471362 0.00469877 0.00467862\n",
      " 0.00447173 0.00441991 0.0043205  0.00416539 0.00414696 0.00403879\n",
      " 0.00401473 0.00394478 0.00360789 0.00342631 0.00342312 0.00338675\n",
      " 0.00318747 0.0029245  0.00283656 0.00261309]\n"
     ]
    }
   ],
   "source": [
    "P=prob(U,V)\n",
    "ser=pd.Series(P[n])\n",
    "ser.sort_values(ascending=False, inplace=True)\n",
    "for i in ser.index:\n",
    "    print(i,\" \",ser[i])\n",
    "pred=ser.to_numpy()\n",
    "print(pred)"
   ]
  },
  {
   "cell_type": "code",
   "execution_count": 26,
   "id": "020a9b31",
   "metadata": {},
   "outputs": [
    {
     "data": {
      "image/png": "[encoded data removed]",
      "text/plain": [
       "<Figure size 432x288 with 1 Axes>"
      ]
     },
     "metadata": {
      "needs_background": "light"
     },
     "output_type": "display_data"
    }
   ],
   "source": [
    "thresholds = np.linspace(0,1,100)\n",
    "tpr=[]\n",
    "fpr=[]\n",
    "pos=len(true_positives)\n",
    "fal=len(true_negatives)\n",
    "for th in thresholds:\n",
    "    tp=0\n",
    "    fp=0\n",
    "    for i in range(64):\n",
    "        if pred[i]<th:\n",
    "            break\n",
    "        if i in true_positives:\n",
    "            tp+=1\n",
    "        else:\n",
    "            fp+=1\n",
    "    tpr.append(tp/pos)\n",
    "    fpr.append(fp/fal)\n",
    "plt.plot([0, 1], [0, 1], linestyle='--', lw=2, color='r',label='Random', alpha=.8)\n",
    "plt.plot(fpr,tpr, label=\"ROC Curve\",color=\"blue\")\n",
    "plt.text(0.5, 0.5, \"varying threshold scores (0-1)\", rotation=0, size=12,ha=\"center\", va=\"center\",bbox=dict(boxstyle=\"rarrow\"))\n",
    "plt.xlabel(\"False Positve Rate\")\n",
    "plt.ylabel(\"True Positive Rate\")\n",
    "plt.legend()\n",
    "plt.show()"
   ]
  },
  {
   "cell_type": "code",
   "execution_count": 72,
   "id": "0b47033d",
   "metadata": {},
   "outputs": [],
   "source": [
    "np.savetxt('U_values_6.txt',U)\n",
    "np.savetxt('V_values_6.txt',V)\n",
    "np.savetxt('P_6.txt',prob(U,V))"
   ]
  }
 ],
 "metadata": {
  "kernelspec": {
   "display_name": "Python 3 (ipykernel)",
   "language": "python",
   "name": "python3"
  },
  "language_info": {
   "codemirror_mode": {
    "name": "ipython",
    "version": 3
   },
   "file_extension": ".py",
   "mimetype": "text/x-python",
   "name": "python",
   "nbconvert_exporter": "python",
   "pygments_lexer": "ipython3",
   "version": "3.8.10"
  }
 },
 "nbformat": 4,
 "nbformat_minor": 5
}
